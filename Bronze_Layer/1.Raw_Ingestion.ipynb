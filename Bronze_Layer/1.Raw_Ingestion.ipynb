{
 "cells": [
  {
   "cell_type": "markdown",
   "metadata": {
    "application/vnd.databricks.v1+cell": {
     "cellMetadata": {},
     "inputWidgets": {},
     "nuid": "9962fa14-1eda-4e39-97f0-7e65038d087a",
     "showTitle": false,
     "tableResultSettingsMap": {},
     "title": ""
    }
   },
   "source": [
    "## Read Files From DBFS Location"
   ]
  },
  {
   "cell_type": "code",
   "execution_count": 0,
   "metadata": {
    "application/vnd.databricks.v1+cell": {
     "cellMetadata": {
      "byteLimit": 2048000,
      "rowLimit": 10000
     },
     "inputWidgets": {},
     "nuid": "b15cb17e-e3a5-4798-a5e6-2c689cf29675",
     "showTitle": false,
     "tableResultSettingsMap": {},
     "title": ""
    }
   },
   "outputs": [],
   "source": [
    "from pyspark.sql import SparkSession\n",
    "\n",
    "# Create a SparkSession\n",
    "spark = SparkSession.builder \\\n",
    ".appName(\"ReadExcelWithHeader\") \\\n",
    ".config(\"spark.jars.packages\", \"com.:spark-excel_2.12:3.1.3_0.18.4\") \\\n",
    ".getOrCreate()"
   ]
  },
  {
   "cell_type": "code",
   "execution_count": 0,
   "metadata": {
    "application/vnd.databricks.v1+cell": {
     "cellMetadata": {
      "byteLimit": 2048000,
      "rowLimit": 10000
     },
     "inputWidgets": {},
     "nuid": "cec6d209-813d-4870-baa7-584767b4401d",
     "showTitle": false,
     "tableResultSettingsMap": {},
     "title": ""
    }
   },
   "outputs": [],
   "source": [
    "order_path = '/FileStore/tables/Orders.json'\n",
    "product_path ='/FileStore/tables/Products.csv'\n",
    "customer_path = '/FileStore/tables/Customer.xlsx'"
   ]
  },
  {
   "cell_type": "code",
   "execution_count": 0,
   "metadata": {
    "application/vnd.databricks.v1+cell": {
     "cellMetadata": {
      "byteLimit": 2048000,
      "rowLimit": 10000
     },
     "inputWidgets": {},
     "nuid": "7b85ecc2-452c-4aa8-9280-a4276f0ee8aa",
     "showTitle": false,
     "tableResultSettingsMap": {},
     "title": ""
    }
   },
   "outputs": [],
   "source": [
    "\n"
   ]
  },
  {
   "cell_type": "code",
   "execution_count": 0,
   "metadata": {
    "application/vnd.databricks.v1+cell": {
     "cellMetadata": {
      "byteLimit": 2048000,
      "rowLimit": 10000
     },
     "inputWidgets": {},
     "nuid": "b27b2710-ddf0-4409-8065-dabc82b3fb2c",
     "showTitle": false,
     "tableResultSettingsMap": {},
     "title": ""
    }
   },
   "outputs": [],
   "source": [
    "#Order DataFrame\n",
    "order_df = spark.read.option('multiline', True)\\\n",
    "    .option(\"mode\", \"PERMISSIVE\") \\\n",
    "    .option(\"columnNameOfCorruptRecord\", \"_corrupt_record\") \\\n",
    "    .option('inferSchema','true')\\\n",
    "    .option('header','true')\\\n",
    "    .json(order_path)\n",
    "display(order_df)"
   ]
  },
  {
   "cell_type": "code",
   "execution_count": 0,
   "metadata": {
    "application/vnd.databricks.v1+cell": {
     "cellMetadata": {
      "byteLimit": 2048000,
      "rowLimit": 10000
     },
     "inputWidgets": {},
     "nuid": "456d6135-6e70-4b81-80f9-e746a76d4b0c",
     "showTitle": false,
     "tableResultSettingsMap": {},
     "title": ""
    }
   },
   "outputs": [],
   "source": [
    "#Product Dataframe\n",
    "\n",
    "product_df = spark.read.format('csv')\\\n",
    "    .option('header','true')\\\n",
    "        .option('inferSchema','true')\\\n",
    "            .load(product_path)\n",
    "display(product_df)"
   ]
  },
  {
   "cell_type": "code",
   "execution_count": 0,
   "metadata": {
    "application/vnd.databricks.v1+cell": {
     "cellMetadata": {
      "byteLimit": 2048000,
      "rowLimit": 10000
     },
     "inputWidgets": {},
     "nuid": "56fbc20c-45b2-4958-91b3-5a70b0425186",
     "showTitle": false,
     "tableResultSettingsMap": {},
     "title": ""
    }
   },
   "outputs": [],
   "source": [
    "spark"
   ]
  },
  {
   "cell_type": "code",
   "execution_count": 0,
   "metadata": {
    "application/vnd.databricks.v1+cell": {
     "cellMetadata": {
      "byteLimit": 2048000,
      "rowLimit": 10000
     },
     "inputWidgets": {},
     "nuid": "75ba462b-98d1-4fa0-ba1d-3e8daf9fbc61",
     "showTitle": false,
     "tableResultSettingsMap": {},
     "title": ""
    }
   },
   "outputs": [],
   "source": [
    "#Customer Dataframe\n",
    "\n",
    "customer_df = spark.read \\\n",
    "    .format(\"com.crealytics.spark.excel\") \\\n",
    "    .option(\"header\", \"true\") \\\n",
    "    .option(\"inferSchema\", \"true\") \\\n",
    "    .load(customer_path)\n",
    "display(customer_df)"
   ]
  },
  {
   "cell_type": "markdown",
   "metadata": {
    "application/vnd.databricks.v1+cell": {
     "cellMetadata": {},
     "inputWidgets": {},
     "nuid": "cdbac8f4-f20e-49e1-985f-7bb84c0e229e",
     "showTitle": false,
     "tableResultSettingsMap": {},
     "title": ""
    }
   },
   "source": [
    "### Test Cases For Raw Ingestion"
   ]
  },
  {
   "cell_type": "code",
   "execution_count": 0,
   "metadata": {
    "application/vnd.databricks.v1+cell": {
     "cellMetadata": {
      "byteLimit": 2048000,
      "rowLimit": 10000
     },
     "inputWidgets": {},
     "nuid": "e391d1db-78f5-4e3d-8c38-50bb536314a4",
     "showTitle": false,
     "tableResultSettingsMap": {},
     "title": ""
    }
   },
   "outputs": [],
   "source": [
    "#File Existence Check \n",
    "try:\n",
    "    cust_data = dbutils.fs.ls(customer_path)\n",
    "    ord_data = dbutils.fs.ls(order_path)\n",
    "    prod_data = dbutils.fs.ls(product_path)\n",
    "\n",
    "    assert len(cust_data) > 0,\"File Exist But No Data is Present in Customer File\"\n",
    "    print(\"OK Test case passed: Data exists in Customer File\")\n",
    "    assert len(ord_data) > 0,\"File Exist But No Data is Present in Order File\"\n",
    "    print(\"OK Test case passed:Data Exists in Order File\")\n",
    "    assert len(prod_data) > 0,\"File Exist But No Data is Present in Product File\"\n",
    "    print(\"OK Test case passed: Data Exists in Product File\")\n",
    "except AssertionError as e:\n",
    "    print(e)"
   ]
  },
  {
   "cell_type": "code",
   "execution_count": 0,
   "metadata": {
    "application/vnd.databricks.v1+cell": {
     "cellMetadata": {
      "byteLimit": 2048000,
      "rowLimit": 10000
     },
     "inputWidgets": {},
     "nuid": "c96bfa57-e9e4-4675-a53e-088569670f1e",
     "showTitle": false,
     "tableResultSettingsMap": {},
     "title": ""
    }
   },
   "outputs": [],
   "source": [
    "#Ingested DataFrame shouldn't be empty\n",
    "assert order_df.count() > 0,\"Order DataFrame is Empty\"\n",
    "print(\"Order DataFrame is not Empty\")\n",
    "assert product_df.count() > 0,\"Product DataFrame is Empty\"\n",
    "print(\"Product DataFrame is not Empty\")\n",
    "assert customer_df.count() > 0,\"Customer DataFrame is Empty\"\n",
    "print(\"Customer DataFrame is not Empty\")"
   ]
  },
  {
   "cell_type": "code",
   "execution_count": 0,
   "metadata": {
    "application/vnd.databricks.v1+cell": {
     "cellMetadata": {
      "byteLimit": 2048000,
      "rowLimit": 10000
     },
     "inputWidgets": {},
     "nuid": "80044cf6-bc4a-4a65-8aa3-a53d18844811",
     "showTitle": false,
     "tableResultSettingsMap": {},
     "title": ""
    }
   },
   "outputs": [],
   "source": [
    "#Corrupted Files check for JSON File\n",
    "assert order_df.columns != '_corrupt_record', \"Dataframe contains corrupt records\"\n",
    "print(\"Ok Test case Passed: No Corrupted files are present\")"
   ]
  },
  {
   "cell_type": "code",
   "execution_count": 0,
   "metadata": {
    "application/vnd.databricks.v1+cell": {
     "cellMetadata": {
      "byteLimit": 2048000,
      "rowLimit": 10000
     },
     "inputWidgets": {},
     "nuid": "df7f1519-79a4-4f8a-ad09-5f76d417dbca",
     "showTitle": false,
     "tableResultSettingsMap": {},
     "title": ""
    }
   },
   "outputs": [],
   "source": [
    "## Manual checks are done on schema check"
   ]
  },
  {
   "cell_type": "markdown",
   "metadata": {
    "application/vnd.databricks.v1+cell": {
     "cellMetadata": {},
     "inputWidgets": {},
     "nuid": "8be89c66-aa3e-44ca-bed9-c8b07fd3adb3",
     "showTitle": false,
     "tableResultSettingsMap": {},
     "title": ""
    }
   },
   "source": [
    "## Create raw tables for each source dataset"
   ]
  },
  {
   "cell_type": "code",
   "execution_count": 0,
   "metadata": {
    "application/vnd.databricks.v1+cell": {
     "cellMetadata": {
      "byteLimit": 2048000,
      "rowLimit": 10000
     },
     "inputWidgets": {},
     "nuid": "2f44eb4d-5120-410a-a7d3-8e98008be2fb",
     "showTitle": false,
     "tableResultSettingsMap": {},
     "title": ""
    }
   },
   "outputs": [],
   "source": [
    "order_df.columns\n",
    "# order_df.write.mode('overwrite').saveAsTable('ORDER_RAW')"
   ]
  },
  {
   "cell_type": "code",
   "execution_count": 0,
   "metadata": {
    "application/vnd.databricks.v1+cell": {
     "cellMetadata": {
      "byteLimit": 2048000,
      "rowLimit": 10000
     },
     "inputWidgets": {},
     "nuid": "10eda223-2642-45f4-94d8-be4b1a9122df",
     "showTitle": false,
     "tableResultSettingsMap": {},
     "title": ""
    }
   },
   "outputs": [],
   "source": [
    "order_df = order_df.withColumnRenamed('Customer ID','Customer_ID')\\\n",
    "    .withColumnRenamed('Order ID','Order_ID')\\\n",
    "    .withColumnRenamed('Order Date','Order_Date')\\\n",
    "    .withColumnRenamed('Product ID','Product_ID')\\\n",
    "    .withColumnRenamed('Ship Date','Shipping_Date')\\\n",
    "    .withColumnRenamed('Ship Mode','Shipping_Mode')"
   ]
  },
  {
   "cell_type": "code",
   "execution_count": 0,
   "metadata": {
    "application/vnd.databricks.v1+cell": {
     "cellMetadata": {
      "byteLimit": 2048000,
      "rowLimit": 10000
     },
     "collapsed": true,
     "inputWidgets": {},
     "nuid": "875da7e1-b8c3-44ec-939c-9e925421a0dc",
     "showTitle": false,
     "tableResultSettingsMap": {},
     "title": ""
    }
   },
   "outputs": [],
   "source": [
    "product_df.columns"
   ]
  },
  {
   "cell_type": "code",
   "execution_count": 0,
   "metadata": {
    "application/vnd.databricks.v1+cell": {
     "cellMetadata": {
      "byteLimit": 2048000,
      "rowLimit": 10000
     },
     "inputWidgets": {},
     "nuid": "f1a45420-a2be-4964-907b-5c9d3beb41f5",
     "showTitle": false,
     "tableResultSettingsMap": {},
     "title": ""
    }
   },
   "outputs": [],
   "source": [
    "product_df = product_df.withColumnRenamed('Product ID','Product_ID')\\\n",
    "    .withColumnRenamed('Sub-Category','Sub_Category')\\\n",
    "    .withColumnRenamed('Product Name','Product_Name')\\\n",
    "    .withColumnRenamed('Price per product','Price_Per_Product')"
   ]
  },
  {
   "cell_type": "code",
   "execution_count": 0,
   "metadata": {
    "application/vnd.databricks.v1+cell": {
     "cellMetadata": {
      "byteLimit": 2048000,
      "rowLimit": 10000
     },
     "inputWidgets": {},
     "nuid": "9e036313-ef44-4928-8067-7e0f5396ce7e",
     "showTitle": false,
     "tableResultSettingsMap": {},
     "title": ""
    }
   },
   "outputs": [],
   "source": [
    "customer_df.columns"
   ]
  },
  {
   "cell_type": "code",
   "execution_count": 0,
   "metadata": {
    "application/vnd.databricks.v1+cell": {
     "cellMetadata": {
      "byteLimit": 2048000,
      "rowLimit": 10000
     },
     "inputWidgets": {},
     "nuid": "39539772-49f7-486b-820a-32b2a6aae20d",
     "showTitle": false,
     "tableResultSettingsMap": {},
     "title": ""
    }
   },
   "outputs": [],
   "source": [
    "customer_df = customer_df.withColumnRenamed('Customer ID','Customer_ID')\\\n",
    "    .withColumnRenamed('Customer Name','Customer_Name')\\\n",
    "    .withColumnRenamed('Postal Code','Postal_Code')"
   ]
  },
  {
   "cell_type": "code",
   "execution_count": 0,
   "metadata": {
    "application/vnd.databricks.v1+cell": {
     "cellMetadata": {
      "byteLimit": 2048000,
      "rowLimit": 10000
     },
     "inputWidgets": {},
     "nuid": "79e97313-0018-416c-8562-07420c6dc7b0",
     "showTitle": false,
     "tableResultSettingsMap": {},
     "title": ""
    }
   },
   "outputs": [],
   "source": [
    "spark.sql('show catalogs').show()\n",
    "spark.sql('use catalog pei_adb_proj')\n",
    "spark.sql('show databases').show()\n",
    "spark.sql('use bronze')"
   ]
  },
  {
   "cell_type": "code",
   "execution_count": 0,
   "metadata": {
    "application/vnd.databricks.v1+cell": {
     "cellMetadata": {
      "byteLimit": 2048000,
      "rowLimit": 10000
     },
     "inputWidgets": {},
     "nuid": "fbd3bbd2-84ed-4ff2-9ce2-aeff4634b35d",
     "showTitle": false,
     "tableResultSettingsMap": {},
     "title": ""
    }
   },
   "outputs": [],
   "source": [
    "# Write the Order DataFrame to create Order_RAW Table\n",
    "order_df.write.format('delta')\\\n",
    "    .option('delta.columnMapping.mode','name')\\\n",
    "    .option('mergeSchema','true')\\\n",
    "    .mode('append')\\\n",
    "    .saveAsTable(\"pei_adb_proj.bronze.Order_RAW\")"
   ]
  },
  {
   "cell_type": "code",
   "execution_count": 0,
   "metadata": {
    "application/vnd.databricks.v1+cell": {
     "cellMetadata": {
      "byteLimit": 2048000,
      "rowLimit": 10000
     },
     "inputWidgets": {},
     "nuid": "75870a5f-cad1-4830-83bb-7a93a03f7e4f",
     "showTitle": false,
     "tableResultSettingsMap": {},
     "title": ""
    }
   },
   "outputs": [],
   "source": [
    "# Write Customer DataFrame to create Customer_RAW Table\n",
    "customer_df.write.format('delta')\\\n",
    "    .option('delta.columnMapping.mode','name')\\\n",
    "    .option('mergeSchema','true')\\\n",
    "    .mode('append')\\\n",
    "    .saveAsTable(\"pei_adb_proj.bronze.Customer_RAW\")"
   ]
  },
  {
   "cell_type": "code",
   "execution_count": 0,
   "metadata": {
    "application/vnd.databricks.v1+cell": {
     "cellMetadata": {
      "byteLimit": 2048000,
      "rowLimit": 10000
     },
     "inputWidgets": {},
     "nuid": "9dd06a34-4c8b-4bca-a725-ac96b9ab2bf4",
     "showTitle": false,
     "tableResultSettingsMap": {},
     "title": ""
    }
   },
   "outputs": [],
   "source": [
    "# Write Product DataFrame to create Product_RAW Table\n",
    "product_df.write.format('delta')\\\n",
    "    .option('delta.columnMapping.mode','name')\\\n",
    "    .option('mergeSchema','true')\\\n",
    "    .mode('append')\\\n",
    "    .saveAsTable(\"pei_adb_proj.bronze.Product_RAW\")"
   ]
  }
 ],
 "metadata": {
  "application/vnd.databricks.v1+notebook": {
   "computePreferences": null,
   "dashboards": [],
   "environmentMetadata": {
    "base_environment": "",
    "environment_version": "2"
   },
   "inputWidgetPreferences": null,
   "language": "python",
   "notebookMetadata": {
    "pythonIndentUnit": 4
   },
   "notebookName": "1.Raw_Ingestion",
   "widgets": {}
  },
  "language_info": {
   "name": "python"
  }
 },
 "nbformat": 4,
 "nbformat_minor": 0
}
