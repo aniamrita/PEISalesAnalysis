{
 "cells": [
  {
   "cell_type": "markdown",
   "metadata": {
    "application/vnd.databricks.v1+cell": {
     "cellMetadata": {
      "byteLimit": 2048000,
      "rowLimit": 10000
     },
     "inputWidgets": {},
     "nuid": "7ceb2284-ad54-4931-957a-645f051fb513",
     "showTitle": false,
     "tableResultSettingsMap": {},
     "title": ""
    }
   },
   "source": [
    "#### Create an aggregate table that shows profit by \n",
    "- Year\n",
    "- Product Category\n",
    "- Product Sub Category\n",
    "- Customer\n",
    "#### Using SQL output the following aggregates\n",
    "- Profit by Year\n",
    "- Profit by Year + Product Category\n",
    "- Profit by Customer\n",
    "- Profit by Customer + Year\n"
   ]
  },
  {
   "cell_type": "code",
   "execution_count": 0,
   "metadata": {
    "application/vnd.databricks.v1+cell": {
     "cellMetadata": {
      "byteLimit": 2048000,
      "rowLimit": 10000
     },
     "inputWidgets": {},
     "nuid": "49639bc4-65f3-4064-a213-60dcec945b4c",
     "showTitle": false,
     "tableResultSettingsMap": {},
     "title": ""
    }
   },
   "outputs": [],
   "source": [
    "enrich_df = spark.read.table(\"pei_adb_proj.silver.enriched_silver_tb\")"
   ]
  },
  {
   "cell_type": "code",
   "execution_count": 0,
   "metadata": {
    "application/vnd.databricks.v1+cell": {
     "cellMetadata": {
      "byteLimit": 2048000,
      "rowLimit": 10000
     },
     "inputWidgets": {},
     "nuid": "a654227e-fab3-43c0-b828-6227e43c547c",
     "showTitle": false,
     "tableResultSettingsMap": {},
     "title": ""
    }
   },
   "outputs": [],
   "source": [
    "enrich_df.display()"
   ]
  },
  {
   "cell_type": "code",
   "execution_count": 0,
   "metadata": {
    "application/vnd.databricks.v1+cell": {
     "cellMetadata": {
      "byteLimit": 2048000,
      "rowLimit": 10000
     },
     "inputWidgets": {},
     "nuid": "e7cf5674-6014-4ff7-99ee-7ebcb48d673c",
     "showTitle": false,
     "tableResultSettingsMap": {},
     "title": ""
    }
   },
   "outputs": [],
   "source": [
    "from pyspark.sql.functions import year,sum,col,round\n",
    "\n",
    "enrich_df = enrich_df.withColumn(\"Year\", year(\"Order_Date\"))"
   ]
  },
  {
   "cell_type": "code",
   "execution_count": 0,
   "metadata": {
    "application/vnd.databricks.v1+cell": {
     "cellMetadata": {
      "byteLimit": 2048000,
      "rowLimit": 10000
     },
     "inputWidgets": {},
     "nuid": "8c2bb186-e13a-471b-951a-ce55c9c9191f",
     "showTitle": false,
     "tableResultSettingsMap": {},
     "title": ""
    }
   },
   "outputs": [],
   "source": [
    "agg_df = enrich_df.groupBy(\"Year\",\"Category\",\"Sub_Category\",\"Customer_ID\",\"Customer_Name\")\\\n",
    "                  .agg(round(sum(\"Profit\"), 2).alias(\"Total_Profit\"))\n",
    "\n",
    "agg_df.display()"
   ]
  },
  {
   "cell_type": "markdown",
   "metadata": {
    "application/vnd.databricks.v1+cell": {
     "cellMetadata": {},
     "inputWidgets": {},
     "nuid": "e666b0e4-f862-415e-8d18-15d9d538cb37",
     "showTitle": false,
     "tableResultSettingsMap": {},
     "title": ""
    }
   },
   "source": [
    "#### Test Cases For Agrregared Details"
   ]
  },
  {
   "cell_type": "code",
   "execution_count": 0,
   "metadata": {
    "application/vnd.databricks.v1+cell": {
     "cellMetadata": {
      "byteLimit": 2048000,
      "rowLimit": 10000
     },
     "inputWidgets": {},
     "nuid": "0ba309db-985a-427f-92ad-170588b161e9",
     "showTitle": false,
     "tableResultSettingsMap": {},
     "title": ""
    }
   },
   "outputs": [],
   "source": [
    "expected_columns = {'Year', 'Category', 'Sub_Category', 'Customer_ID', 'Customer_Name', 'Total_Profit'}\n",
    "assert expected_columns.issubset(set(agg_df.columns)), \"Test Case 1 Failed: Schema is missing expected columns.\"\n",
    "print(\"OK Test Case 1 Passed: Schema is correct.\")\n"
   ]
  },
  {
   "cell_type": "code",
   "execution_count": 0,
   "metadata": {
    "application/vnd.databricks.v1+cell": {
     "cellMetadata": {
      "byteLimit": 2048000,
      "rowLimit": 10000
     },
     "inputWidgets": {},
     "nuid": "01bc19d6-1250-4783-a548-3d2be6a0ed9f",
     "showTitle": false,
     "tableResultSettingsMap": {},
     "title": ""
    }
   },
   "outputs": [],
   "source": [
    "null_profits = agg_df.filter(col(\"Total_Profit\").isNull())\n",
    "assert null_profits.count() == 0, \"Test Case 2 Failed: Null Total_Profit found in aggregated data.\"\n",
    "print(\"OK Test Case 2 Passed: No nulls in Total_Profit.\")\n"
   ]
  },
  {
   "cell_type": "code",
   "execution_count": 0,
   "metadata": {
    "application/vnd.databricks.v1+cell": {
     "cellMetadata": {
      "byteLimit": 2048000,
      "rowLimit": 10000
     },
     "inputWidgets": {},
     "nuid": "b6beb3bf-8cb8-4c6e-8a45-384a66ba340f",
     "showTitle": false,
     "tableResultSettingsMap": {},
     "title": ""
    }
   },
   "outputs": [],
   "source": [
    "null_years = agg_df.filter(col(\"Year\").isNull())\n",
    "assert null_years.count() == 0, \"Test Case 3 Failed: Null values found in Year field.\"\n",
    "print(\"OK Test Case 3 Passed: Year field does not contain nulls.\")\n"
   ]
  },
  {
   "cell_type": "code",
   "execution_count": 0,
   "metadata": {
    "application/vnd.databricks.v1+cell": {
     "cellMetadata": {
      "byteLimit": 2048000,
      "rowLimit": 10000
     },
     "inputWidgets": {},
     "nuid": "ecb81d72-fa1f-4079-b946-45dc3193c5d8",
     "showTitle": false,
     "tableResultSettingsMap": {},
     "title": ""
    }
   },
   "outputs": [],
   "source": [
    "record_count = agg_df.count()\n",
    "assert record_count > 0, \"Test Case 4 Failed: Aggregated table is empty.\"\n",
    "print(\"OK Test Case 4 Passed: Aggregated table contains records.\")\n"
   ]
  },
  {
   "cell_type": "code",
   "execution_count": 0,
   "metadata": {
    "application/vnd.databricks.v1+cell": {
     "cellMetadata": {
      "byteLimit": 2048000,
      "rowLimit": 10000
     },
     "inputWidgets": {},
     "nuid": "386dbca3-f5f7-4b5d-8704-480cd56ddbe5",
     "showTitle": false,
     "tableResultSettingsMap": {},
     "title": ""
    }
   },
   "outputs": [],
   "source": [
    "agg_df.write.format(\"delta\").mode(\"overwrite\").saveAsTable(\"pei_adb_proj.gold.profit_aggregate_gold\")"
   ]
  }
 ],
 "metadata": {
  "application/vnd.databricks.v1+notebook": {
   "computePreferences": null,
   "dashboards": [],
   "environmentMetadata": {
    "base_environment": "",
    "environment_version": "2"
   },
   "inputWidgetPreferences": null,
   "language": "python",
   "notebookMetadata": {
    "pythonIndentUnit": 4
   },
   "notebookName": "5. aggregated_notebook",
   "widgets": {}
  },
  "language_info": {
   "name": "python"
  }
 },
 "nbformat": 4,
 "nbformat_minor": 0
}
