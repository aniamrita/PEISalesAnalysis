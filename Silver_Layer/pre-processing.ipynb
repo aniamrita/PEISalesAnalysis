{
 "cells": [
  {
   "cell_type": "markdown",
   "metadata": {
    "application/vnd.databricks.v1+cell": {
     "cellMetadata": {
      "byteLimit": 2048000,
      "rowLimit": 10000
     },
     "inputWidgets": {},
     "nuid": "78f0f773-2e9a-452e-9933-334c7f5d9f28",
     "showTitle": false,
     "tableResultSettingsMap": {},
     "title": ""
    }
   },
   "source": [
    "### Pre-Procssing Raw Tables"
   ]
  },
  {
   "cell_type": "code",
   "execution_count": 0,
   "metadata": {
    "application/vnd.databricks.v1+cell": {
     "cellMetadata": {
      "byteLimit": 2048000,
      "rowLimit": 10000
     },
     "inputWidgets": {},
     "nuid": "e849b63c-081e-4c50-89dc-4822d69a48d2",
     "showTitle": false,
     "tableResultSettingsMap": {},
     "title": ""
    }
   },
   "outputs": [],
   "source": [
    "customer_tb = spark.read.table('pei_adb_proj.bronze.customer_raw')\n",
    "product_tb = spark.read.table('pei_adb_proj.bronze.product_raw')\n",
    "order_tb = spark.read.table('pei_adb_proj.bronze.order_raw')"
   ]
  },
  {
   "cell_type": "code",
   "execution_count": 0,
   "metadata": {
    "application/vnd.databricks.v1+cell": {
     "cellMetadata": {
      "byteLimit": 2048000,
      "rowLimit": 10000
     },
     "collapsed": true,
     "inputWidgets": {},
     "nuid": "06a655ac-9f6b-428a-aae8-a56d09093bdf",
     "showTitle": false,
     "tableResultSettingsMap": {},
     "title": ""
    }
   },
   "outputs": [],
   "source": [
    "# order_tb.display()\n",
    "customer_tb.display()\n",
    "# product_tb.display()"
   ]
  },
  {
   "cell_type": "markdown",
   "metadata": {
    "application/vnd.databricks.v1+cell": {
     "cellMetadata": {
      "byteLimit": 2048000,
      "rowLimit": 10000
     },
     "inputWidgets": {},
     "nuid": "d4130660-062c-4a92-adf9-8ae0ae459eca",
     "showTitle": false,
     "tableResultSettingsMap": {},
     "title": ""
    }
   },
   "source": [
    "#####Clean Data "
   ]
  },
  {
   "cell_type": "code",
   "execution_count": 0,
   "metadata": {
    "application/vnd.databricks.v1+cell": {
     "cellMetadata": {
      "byteLimit": 2048000,
      "rowLimit": 10000
     },
     "inputWidgets": {},
     "nuid": "46be55bc-8d5f-4785-b02e-d3bd0e469d2c",
     "showTitle": false,
     "tableResultSettingsMap": {},
     "title": ""
    }
   },
   "outputs": [],
   "source": [
    "from pyspark.sql.functions import regexp_replace, col, to_date, trim, when\n",
    "\n",
    "customer_cleaned = customer_tb.withColumn(\"Customer_Name\",regexp_replace(col(\"Customer_Name\"), r\"[^a-zA-Z\\s]\", \"\"))\n",
    "customer_cleaned = customer_cleaned.withColumn(\"Customer_Name\",trim(col(\"Customer_Name\")))\\\n",
    "                                .withColumn('Customer_Name', regexp_replace('Customer_Name', ' +', ' '))\\\n",
    "                                .withColumn(\"phone\",trim(col(\"phone\")))\\\n",
    "                                .withColumn('phone', regexp_replace('phone', r'[^0-9]', ''))\\\n",
    "                                .withColumn('phone',when(col('phone').rlike('^[0-9]{10}$'), col('phone')).otherwise(None))\\\n",
    "                                .withColumn('postal_code', regexp_replace('postal_code', '[^0-9]', ''))\n",
    "\n",
    "invalid_phones = customer_cleaned.filter(~(col(\"phone\").rlike(\"^[0-9]{10}$\")) & col(\"phone\").isNotNull())\n",
    "assert invalid_phones.count() == 0, \"Phone validation failed: Found phones not matching 10 digits.\"\n",
    "print(\"Test Passed: All phone numbers are valid.\")"
   ]
  },
  {
   "cell_type": "code",
   "execution_count": 0,
   "metadata": {
    "application/vnd.databricks.v1+cell": {
     "cellMetadata": {
      "byteLimit": 2048000,
      "rowLimit": 10000
     },
     "collapsed": true,
     "inputWidgets": {},
     "nuid": "84efde66-c6de-40a0-ac40-08e0f892b517",
     "showTitle": false,
     "tableResultSettingsMap": {},
     "title": ""
    }
   },
   "outputs": [],
   "source": [
    "product_cleaned = product_tb.withColumn('Price_Per_Product',regexp_replace('Price_Per_Product', '[^0-9.]', ''))\\\n",
    "                            .withColumn('State', regexp_replace('State',r\"[^A-Za-z\\s]\",\"\"))\n"
   ]
  },
  {
   "cell_type": "markdown",
   "metadata": {
    "application/vnd.databricks.v1+cell": {
     "cellMetadata": {
      "byteLimit": 2048000,
      "rowLimit": 10000
     },
     "inputWidgets": {},
     "nuid": "63476ab7-ab13-4a90-addb-657c092b4f24",
     "showTitle": false,
     "tableResultSettingsMap": {},
     "title": ""
    }
   },
   "source": [
    "#####Standardizating Cleaned Data"
   ]
  },
  {
   "cell_type": "code",
   "execution_count": 0,
   "metadata": {
    "application/vnd.databricks.v1+cell": {
     "cellMetadata": {
      "byteLimit": 2048000,
      "rowLimit": 10000
     },
     "collapsed": true,
     "inputWidgets": {},
     "nuid": "e257ff14-0b31-4165-b05e-1745e5dd14b7",
     "showTitle": false,
     "tableResultSettingsMap": {},
     "title": ""
    }
   },
   "outputs": [],
   "source": [
    "customer_stan = customer_cleaned.withColumnRenamed('phone',\"Phone\")\\\n",
    "                            .withColumnRenamed('email',\"Email\")\\\n",
    "                            .withColumnRenamed('address',\"Address\")\\\n",
    "                            .withColumnRenamed('postal_code',\"Postal_Code\")\n",
    "\n",
    "customer_stan = customer_stan.withColumn('Phone',col('Phone').cast('long'))\\\n",
    "                             .withColumn('Postal_Code', col('Postal_Code').cast('int'))\n"
   ]
  },
  {
   "cell_type": "code",
   "execution_count": 0,
   "metadata": {
    "application/vnd.databricks.v1+cell": {
     "cellMetadata": {
      "byteLimit": 2048000,
      "rowLimit": 10000
     },
     "collapsed": true,
     "inputWidgets": {},
     "nuid": "6092029c-c2ac-4f75-98cc-d90e15723055",
     "showTitle": false,
     "tableResultSettingsMap": {},
     "title": ""
    }
   },
   "outputs": [],
   "source": [
    "product_stan = product_cleaned.withColumn(\"Price_Per_Product\",col(\"Price_Per_Product\").cast('double'))"
   ]
  },
  {
   "cell_type": "code",
   "execution_count": 0,
   "metadata": {
    "application/vnd.databricks.v1+cell": {
     "cellMetadata": {
      "byteLimit": 2048000,
      "rowLimit": 10000
     },
     "inputWidgets": {},
     "nuid": "2b3aed09-64f0-4e01-a670-ae410cd57b49",
     "showTitle": false,
     "tableResultSettingsMap": {},
     "title": ""
    }
   },
   "outputs": [],
   "source": [
    "order_stan = order_tb.withColumn('Order_Date', to_date('Order_Date', 'd/M/yyyy'))\\\n",
    "                   .withColumn('Shipping_Date', to_date('Shipping_Date', 'd/M/yyyy'))\\\n",
    "                    .withColumnRenamed('Row ID',\"Row_ID\")\n"
   ]
  },
  {
   "cell_type": "markdown",
   "metadata": {
    "application/vnd.databricks.v1+cell": {
     "cellMetadata": {
      "byteLimit": 2048000,
      "rowLimit": 10000
     },
     "inputWidgets": {},
     "nuid": "e28adc78-478d-4434-b2ac-75782bc3b384",
     "showTitle": false,
     "tableResultSettingsMap": {},
     "title": ""
    }
   },
   "source": [
    "#####Validation"
   ]
  },
  {
   "cell_type": "code",
   "execution_count": 0,
   "metadata": {
    "application/vnd.databricks.v1+cell": {
     "cellMetadata": {
      "byteLimit": 2048000,
      "rowLimit": 10000
     },
     "inputWidgets": {},
     "nuid": "c2329a1d-5b07-4e96-ab50-010f16a9002c",
     "showTitle": false,
     "tableResultSettingsMap": {},
     "title": ""
    }
   },
   "outputs": [],
   "source": [
    "valid_email_pattern = r'^[A-Za-z0-9._%+-]+@[A-Za-z]+\\.[A-Za-z]{2,}$'\n",
    "\n",
    "customer_stan = customer_stan.filter(col('Email').rlike(valid_email_pattern))"
   ]
  },
  {
   "cell_type": "markdown",
   "metadata": {
    "application/vnd.databricks.v1+cell": {
     "cellMetadata": {
      "byteLimit": 2048000,
      "rowLimit": 10000
     },
     "inputWidgets": {},
     "nuid": "803b24a7-59f2-4d3d-bd03-5aa4a3dd9d92",
     "showTitle": false,
     "tableResultSettingsMap": {},
     "title": ""
    }
   },
   "source": [
    "#####De-Duplication"
   ]
  },
  {
   "cell_type": "code",
   "execution_count": 0,
   "metadata": {
    "application/vnd.databricks.v1+cell": {
     "cellMetadata": {
      "byteLimit": 2048000,
      "rowLimit": 10000
     },
     "inputWidgets": {},
     "nuid": "7f083116-f200-4376-bac8-f9ff84b035bb",
     "showTitle": false,
     "tableResultSettingsMap": {},
     "title": ""
    }
   },
   "outputs": [],
   "source": [
    "customer_stan = customer_stan.dropDuplicates(['Customer_ID'])\n",
    "product_stan = product_stan.dropDuplicates(['Product_ID'])\n",
    "order_stan = order_stan.dropDuplicates(['Order_ID'])\n"
   ]
  },
  {
   "cell_type": "code",
   "execution_count": 0,
   "metadata": {
    "application/vnd.databricks.v1+cell": {
     "cellMetadata": {
      "byteLimit": 2048000,
      "rowLimit": 10000
     },
     "inputWidgets": {},
     "nuid": "c9eb6f03-c479-495f-a79c-cc22eef28355",
     "showTitle": false,
     "tableResultSettingsMap": {},
     "title": ""
    }
   },
   "outputs": [],
   "source": [
    "spark.sql(\"drop table if exists pei_adb_proj.silver.order_stan_silver\")\n",
    "spark.sql(\"drop table if exists pei_adb_proj.silver.customer_stan_silver\")\n",
    "spark.sql(\"drop table if exists pei_adb_proj.silver.product_stan_silver\")"
   ]
  },
  {
   "cell_type": "code",
   "execution_count": 0,
   "metadata": {
    "application/vnd.databricks.v1+cell": {
     "cellMetadata": {
      "byteLimit": 2048000,
      "rowLimit": 10000
     },
     "inputWidgets": {},
     "nuid": "182d15b3-cbc8-46db-879b-80b10e6da3d0",
     "showTitle": false,
     "tableResultSettingsMap": {},
     "title": ""
    }
   },
   "outputs": [],
   "source": [
    "customer_stan.write.format(\"delta\").mode(\"overwrite\").saveAsTable(\"pei_adb_proj.silver.customer_stan_silver\")\n",
    "product_stan.write.format(\"delta\").mode(\"overwrite\").saveAsTable(\"pei_adb_proj.silver.product_stan_silver\")\n",
    "order_stan.write.format(\"delta\").mode(\"overwrite\").saveAsTable(\"pei_adb_proj.silver.order_stan_silver\")\n",
    "\n"
   ]
  },
  {
   "cell_type": "markdown",
   "metadata": {
    "application/vnd.databricks.v1+cell": {
     "cellMetadata": {},
     "inputWidgets": {},
     "nuid": "6fc081b8-163b-4876-9e36-5725824bbf6e",
     "showTitle": false,
     "tableResultSettingsMap": {},
     "title": ""
    }
   },
   "source": [
    "### Test Cases For Pre-processing"
   ]
  },
  {
   "cell_type": "code",
   "execution_count": 0,
   "metadata": {
    "application/vnd.databricks.v1+cell": {
     "cellMetadata": {
      "byteLimit": 2048000,
      "rowLimit": 10000
     },
     "inputWidgets": {},
     "nuid": "1d90e24b-74a9-4486-8669-ad8b970fc58c",
     "showTitle": false,
     "tableResultSettingsMap": {},
     "title": ""
    }
   },
   "outputs": [],
   "source": [
    "from pyspark.sql import Row\n",
    "from pyspark.sql.functions import col, regexp_replace, trim, when\n",
    "\n",
    "# Sample DataFrame to test\n",
    "test_data = [\n",
    "    Row(Customer_Name=\"John@123  Smith\", phone=\" 98765-43210 \", postal_code=\"700 001\"),\n",
    "    Row(Customer_Name=\"Jane    Doe!!\", phone=\"1234abc567\", postal_code=\"ABCDE\"),\n",
    "    Row(Customer_Name=\"   Bob   \", phone=\"999999999\", postal_code=\"123456\")\n",
    "]\n",
    "\n",
    "df = spark.createDataFrame(test_data)\n",
    "\n",
    "# Apply the cleaning logic\n",
    "customer_cleaned = df.withColumn(\"Customer_Name\", regexp_replace(col(\"Customer_Name\"), r\"[^a-zA-Z\\s]\", \"\")) \\\n",
    "                     .withColumn(\"Customer_Name\", trim(col(\"Customer_Name\"))) \\\n",
    "                     .withColumn('Customer_Name', regexp_replace('Customer_Name', ' +', ' ')) \\\n",
    "                     .withColumn(\"phone\", trim(col(\"phone\"))) \\\n",
    "                     .withColumn('phone', regexp_replace('phone', r'[^0-9]', '')) \\\n",
    "                     .withColumn('phone', when(col('phone').rlike('^[0-9]{10}$'), col('phone')).otherwise(None)) \\\n",
    "                     .withColumn('postal_code', regexp_replace('postal_code', '[^0-9]', ''))\n"
   ]
  },
  {
   "cell_type": "code",
   "execution_count": 0,
   "metadata": {
    "application/vnd.databricks.v1+cell": {
     "cellMetadata": {
      "byteLimit": 2048000,
      "rowLimit": 10000
     },
     "inputWidgets": {},
     "nuid": "3d51efc8-de8d-40d4-b966-59db9ff33fd5",
     "showTitle": false,
     "tableResultSettingsMap": {},
     "title": ""
    }
   },
   "outputs": [],
   "source": [
    "# Validate special characters are removed\n",
    "invalid_chars = customer_cleaned.filter(col(\"Customer_Name\").rlike(\"[^a-zA-Z\\s]\"))\n",
    "assert invalid_chars.count() == 0, \"Test Case 1 Failed: Special characters not fully removed from Customer_Name.\"\n",
    "print(\"OK Test Case 1 Passed: Special characters removed from Customer_Name.\")\n"
   ]
  },
  {
   "cell_type": "code",
   "execution_count": 0,
   "metadata": {
    "application/vnd.databricks.v1+cell": {
     "cellMetadata": {
      "byteLimit": 2048000,
      "rowLimit": 10000
     },
     "inputWidgets": {},
     "nuid": "85d11d8b-fb01-48b2-87d0-5de58bd07fce",
     "showTitle": false,
     "tableResultSettingsMap": {},
     "title": ""
    }
   },
   "outputs": [],
   "source": [
    "# Validate no multiple spaces exist\n",
    "multiple_spaces = customer_cleaned.filter(col(\"Customer_Name\").rlike(\" {2,}\"))\n",
    "assert multiple_spaces.count() == 0, \"Test Case 2 Failed: Multiple spaces found in Customer_Name.\"\n",
    "print(\"OK Test Case 2 Passed: Multiple spaces reduced to single space in Customer_Name.\")\n"
   ]
  },
  {
   "cell_type": "code",
   "execution_count": 0,
   "metadata": {
    "application/vnd.databricks.v1+cell": {
     "cellMetadata": {
      "byteLimit": 2048000,
      "rowLimit": 10000
     },
     "inputWidgets": {},
     "nuid": "1aeb6f19-f00e-463c-8ce3-80e53f928d4d",
     "showTitle": false,
     "tableResultSettingsMap": {},
     "title": ""
    }
   },
   "outputs": [],
   "source": [
    "# Validate no leading or trailing spaces\n",
    "leading_trailing_spaces = customer_cleaned.filter(\n",
    "    col(\"Customer_Name\").startswith(\" \") | col(\"Customer_Name\").endswith(\" \")\n",
    ")\n",
    "assert leading_trailing_spaces.count() == 0, \"Test Case 3 Failed: Leading or trailing spaces found in Customer_Name.\"\n",
    "print(\"OK Test Case 3 Passed: Leading and trailing spaces removed from Customer_Name.\")\n"
   ]
  },
  {
   "cell_type": "code",
   "execution_count": 0,
   "metadata": {
    "application/vnd.databricks.v1+cell": {
     "cellMetadata": {
      "byteLimit": 2048000,
      "rowLimit": 10000
     },
     "inputWidgets": {},
     "nuid": "1654c607-b01a-4171-a690-6cf2f3efb5f5",
     "showTitle": false,
     "tableResultSettingsMap": {},
     "title": ""
    }
   },
   "outputs": [],
   "source": [
    "# Validate phone numbers contain only digits or are null\n",
    "invalid_phones = customer_cleaned.filter(\n",
    "    ~(col(\"phone\").rlike(\"^[0-9]{10}$\")) & col(\"phone\").isNotNull()\n",
    ")\n",
    "assert invalid_phones.count() == 0, \"Test Case 4 Failed: Invalid phone numbers found.\"\n",
    "print(\"OK Test Case 4 Passed: All phone numbers are valid or null.\")\n"
   ]
  },
  {
   "cell_type": "code",
   "execution_count": 0,
   "metadata": {
    "application/vnd.databricks.v1+cell": {
     "cellMetadata": {
      "byteLimit": 2048000,
      "rowLimit": 10000
     },
     "inputWidgets": {},
     "nuid": "33150b65-7f88-49d6-9873-17e1d66630ac",
     "showTitle": false,
     "tableResultSettingsMap": {},
     "title": ""
    }
   },
   "outputs": [],
   "source": [
    "# Validate phones with less/more than 10 digits are set to null\n",
    "incorrect_phones = customer_cleaned.filter((col(\"phone\").isNotNull()) & (~col(\"phone\").rlike(\"^[0-9]{10}$\")))\n",
    "assert incorrect_phones.count() == 0, \"Test Case 5 Failed: Invalid length phone numbers not set to null.\"\n",
    "print(\"OK Test Case 5 Passed: Incorrect length phone numbers are correctly nullified.\")\n"
   ]
  },
  {
   "cell_type": "code",
   "execution_count": 0,
   "metadata": {
    "application/vnd.databricks.v1+cell": {
     "cellMetadata": {
      "byteLimit": 2048000,
      "rowLimit": 10000
     },
     "inputWidgets": {},
     "nuid": "abd89642-983b-4d7d-a30e-2901b26683e1",
     "showTitle": false,
     "tableResultSettingsMap": {},
     "title": ""
    }
   },
   "outputs": [],
   "source": [
    "# Validate postal codes contain only digits\n",
    "invalid_postal = customer_cleaned.filter(~col(\"postal_code\").rlike(\"^[0-9]*$\"))\n",
    "assert invalid_postal.count() == 0, \"Test Case 6 Failed: Non-numeric characters found in postal codes.\"\n",
    "print(\"OK Test Case 6 Passed: Postal codes cleaned successfully.\")\n"
   ]
  },
  {
   "cell_type": "code",
   "execution_count": 0,
   "metadata": {
    "application/vnd.databricks.v1+cell": {
     "cellMetadata": {
      "byteLimit": 2048000,
      "rowLimit": 10000
     },
     "inputWidgets": {},
     "nuid": "410e8fe8-4c18-4ec5-84a9-5df93ba6eb87",
     "showTitle": false,
     "tableResultSettingsMap": {},
     "title": ""
    }
   },
   "outputs": [],
   "source": [
    "dbutils.notebook.exit(\"Pre-processing completed successfully\")"
   ]
  }
 ],
 "metadata": {
  "application/vnd.databricks.v1+notebook": {
   "computePreferences": null,
   "dashboards": [],
   "environmentMetadata": {
    "base_environment": "",
    "environment_version": "2"
   },
   "inputWidgetPreferences": null,
   "language": "python",
   "notebookMetadata": {
    "pythonIndentUnit": 4
   },
   "notebookName": "pre-processing",
   "widgets": {}
  },
  "language_info": {
   "name": "python"
  }
 },
 "nbformat": 4,
 "nbformat_minor": 0
}
