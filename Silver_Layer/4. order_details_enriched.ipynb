{
 "cells": [
  {
   "cell_type": "markdown",
   "metadata": {
    "application/vnd.databricks.v1+cell": {
     "cellMetadata": {},
     "inputWidgets": {},
     "nuid": "421906c8-a408-4b49-b828-e689e4126647",
     "showTitle": false,
     "tableResultSettingsMap": {},
     "title": ""
    }
   },
   "source": [
    "### 3. Create an enriched table which has\n",
    "order information \n",
    "- Profit rounded to 2 decimal places\n",
    "- Customer name and country\n",
    "- Product category and sub category\n"
   ]
  },
  {
   "cell_type": "code",
   "execution_count": 0,
   "metadata": {
    "application/vnd.databricks.v1+cell": {
     "cellMetadata": {
      "byteLimit": 2048000,
      "rowLimit": 10000
     },
     "inputWidgets": {},
     "nuid": "589def36-592f-4eae-869d-5ee73754abe7",
     "showTitle": false,
     "tableResultSettingsMap": {},
     "title": ""
    }
   },
   "outputs": [],
   "source": [
    "customer_df = spark.read.table(\"pei_adb_proj.silver.customer_stan_silver\")\n",
    "product_df = spark.read.table(\"pei_adb_proj.silver.product_stan_silver\")\n",
    "order_df = spark.read.table(\"pei_adb_proj.silver.order_stan_silver\")"
   ]
  },
  {
   "cell_type": "code",
   "execution_count": 0,
   "metadata": {
    "application/vnd.databricks.v1+cell": {
     "cellMetadata": {
      "byteLimit": 2048000,
      "rowLimit": 10000
     },
     "inputWidgets": {},
     "nuid": "8eb1f63b-54e4-4e38-9f82-735262aa83a6",
     "showTitle": false,
     "tableResultSettingsMap": {},
     "title": ""
    }
   },
   "outputs": [],
   "source": [
    "from pyspark.sql.functions import round\n",
    "\n",
    "order_details_enrich = customer_df.join(order_df, customer_df.Customer_ID == order_df.Customer_ID, \"left\")\\\n",
    "                                 .join(product_df, order_df.Product_ID == product_df.Product_ID, \"left\")\\\n",
    "                                 .select(customer_df.Customer_ID.alias(\"Customer_ID\"), \n",
    "                                         \"Country\", \n",
    "                                         \"Category\", \n",
    "                                         \"Sub_Category\", \n",
    "                                         round(\"Profit\", 2).alias(\"Profit\"),\n",
    "                                         \"Order_Date\",\n",
    "                                         \"Order_ID\",\n",
    "                                         \"Customer_Name\")\n",
    "\n",
    "display(order_details_enrich)"
   ]
  },
  {
   "cell_type": "code",
   "execution_count": 0,
   "metadata": {
    "application/vnd.databricks.v1+cell": {
     "cellMetadata": {
      "byteLimit": 2048000,
      "rowLimit": 10000
     },
     "inputWidgets": {},
     "nuid": "f227792b-a4a6-4639-b07d-0581f6e1f390",
     "showTitle": false,
     "tableResultSettingsMap": {},
     "title": ""
    }
   },
   "outputs": [],
   "source": [
    "assert order_details_enrich.select(\"Order_ID\").distinct().count() == order_df.select(\"Order_ID\").distinct().count(), \\\n",
    "    \"Test Case 1 Failed: Missing orders after join.\"\n",
    "print(\"OK Test Case 1 Passed: All orders are preserved after join.\")"
   ]
  },
  {
   "cell_type": "code",
   "execution_count": 0,
   "metadata": {
    "application/vnd.databricks.v1+cell": {
     "cellMetadata": {
      "byteLimit": 2048000,
      "rowLimit": 10000
     },
     "inputWidgets": {},
     "nuid": "3813954b-10a8-431a-8d9c-680166d16266",
     "showTitle": false,
     "tableResultSettingsMap": {},
     "title": ""
    }
   },
   "outputs": [],
   "source": [
    "# Check if customer details exist for each order \n",
    "from pyspark.sql.functions import col\n",
    "missing_customers = order_details_enrich.filter(col(\"Customer_ID\").isNull() & col(\"Order_ID\").isNotNull())\n",
    "assert missing_customers.count() == 0, \"Test Case 2 Failed: Some orders are not linked to customers.\"\n",
    "print(\"OK Test Case 2 Passed: All orders are linked to customers.\")\n"
   ]
  },
  {
   "cell_type": "code",
   "execution_count": 0,
   "metadata": {
    "application/vnd.databricks.v1+cell": {
     "cellMetadata": {
      "byteLimit": 2048000,
      "rowLimit": 10000
     },
     "inputWidgets": {},
     "nuid": "4f6f7589-e137-49d2-a0a0-ce301b050504",
     "showTitle": false,
     "tableResultSettingsMap": {},
     "title": ""
    }
   },
   "outputs": [],
   "source": [
    "spark.sql(\"DROP TABLE IF EXISTS pei_adb_proj.silver.enriched_silver_tb\")    "
   ]
  },
  {
   "cell_type": "code",
   "execution_count": 0,
   "metadata": {
    "application/vnd.databricks.v1+cell": {
     "cellMetadata": {
      "byteLimit": 2048000,
      "rowLimit": 10000
     },
     "inputWidgets": {},
     "nuid": "a700e65f-f191-433f-83a0-4a8277ed3051",
     "showTitle": false,
     "tableResultSettingsMap": {},
     "title": ""
    }
   },
   "outputs": [],
   "source": [
    "order_details_enrich.write.format(\"delta\").mode(\"overwrite\").saveAsTable(\"pei_adb_proj.silver.enriched_silver_tb\")"
   ]
  }
 ],
 "metadata": {
  "application/vnd.databricks.v1+notebook": {
   "computePreferences": null,
   "dashboards": [],
   "environmentMetadata": {
    "base_environment": "",
    "environment_version": "2"
   },
   "inputWidgetPreferences": null,
   "language": "python",
   "notebookMetadata": {
    "pythonIndentUnit": 4
   },
   "notebookName": "4. order_details_enriched",
   "widgets": {}
  },
  "language_info": {
   "name": "python"
  }
 },
 "nbformat": 4,
 "nbformat_minor": 0
}
