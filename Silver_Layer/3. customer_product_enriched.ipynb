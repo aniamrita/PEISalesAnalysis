{
 "cells": [
  {
   "cell_type": "markdown",
   "metadata": {
    "application/vnd.databricks.v1+cell": {
     "cellMetadata": {},
     "inputWidgets": {},
     "nuid": "b1d91e77-eb3c-4288-813e-665576ba0b3e",
     "showTitle": false,
     "tableResultSettingsMap": {},
     "title": ""
    }
   },
   "source": [
    "## 2. Create an enriched table for customers and products \n",
    "## "
   ]
  },
  {
   "cell_type": "code",
   "execution_count": 0,
   "metadata": {
    "application/vnd.databricks.v1+cell": {
     "cellMetadata": {
      "byteLimit": 2048000,
      "rowLimit": 10000
     },
     "collapsed": true,
     "inputWidgets": {},
     "nuid": "2ff46391-f35e-4bd2-b882-178e5376e067",
     "showTitle": false,
     "tableResultSettingsMap": {},
     "title": ""
    }
   },
   "outputs": [],
   "source": [
    "preprocess_status = dbutils.notebook.run(\"/Workspace/Users/aniamrita1610@gmail.com/PEI_Assessment/Silver_Layer/pre-processing\", timeout_seconds=3600)"
   ]
  },
  {
   "cell_type": "code",
   "execution_count": 0,
   "metadata": {
    "application/vnd.databricks.v1+cell": {
     "cellMetadata": {
      "byteLimit": 2048000,
      "rowLimit": 10000
     },
     "inputWidgets": {},
     "nuid": "a56c2f18-ad58-46b7-8c07-9d2d500bea8a",
     "showTitle": false,
     "tableResultSettingsMap": {},
     "title": ""
    }
   },
   "outputs": [],
   "source": [
    "customer_df = spark.read.table(\"pei_adb_proj.silver.customer_stan_silver\")\n",
    "product_df = spark.read.table(\"pei_adb_proj.silver.product_stan_silver\")\n",
    "order_df = spark.read.table(\"pei_adb_proj.silver.order_stan_silver\")"
   ]
  },
  {
   "cell_type": "code",
   "execution_count": 0,
   "metadata": {
    "application/vnd.databricks.v1+cell": {
     "cellMetadata": {
      "byteLimit": 2048000,
      "rowLimit": 10000
     },
     "inputWidgets": {},
     "nuid": "84118ba0-c9d6-40ca-9cd0-9d5233bc6a60",
     "showTitle": false,
     "tableResultSettingsMap": {},
     "title": ""
    }
   },
   "outputs": [],
   "source": [
    "from pyspark.sql.functions import sum, count\n",
    "#Customer Enriched Table\n",
    "\n",
    "customer_enriched = order_df.groupBy(\"Customer_ID\")\\\n",
    "                            .agg(sum(\"Price\").alias(\"Total_Spend\"), count(\"Order_ID\").alias(\"Total_Orders\"))\n",
    "customer_enriched = customer_df.join(customer_enriched, \"Customer_ID\", \"left\").fillna({\"Total_Spend\": 0, \"Total_Orders\": 0})\n",
    "customer_enriched.display()"
   ]
  },
  {
   "cell_type": "code",
   "execution_count": 0,
   "metadata": {
    "application/vnd.databricks.v1+cell": {
     "cellMetadata": {
      "byteLimit": 2048000,
      "rowLimit": 10000
     },
     "inputWidgets": {},
     "nuid": "275b0336-fc93-447d-a5ce-e86347122e09",
     "showTitle": false,
     "tableResultSettingsMap": {},
     "title": ""
    }
   },
   "outputs": [],
   "source": [
    "product_enriched = order_df.groupBy(\"Product_ID\").agg(sum(\"Quantity\").alias(\"Total_Units_Sold\"),sum(\"Price\").alias(\"Total_Revenue\"))\n",
    "product_enriched = product_df.join(product_enriched, \"Product_ID\", \"left\").fillna({\"Total_Units_Sold\": 0, \"Total_Revenue\": 0})\n",
    "product_enriched.display()"
   ]
  },
  {
   "cell_type": "markdown",
   "metadata": {
    "application/vnd.databricks.v1+cell": {
     "cellMetadata": {},
     "inputWidgets": {},
     "nuid": "da6efe53-bfbe-4eef-bb33-eb9394c48566",
     "showTitle": false,
     "tableResultSettingsMap": {},
     "title": ""
    }
   },
   "source": [
    "#### Customer Enrich Test Cases"
   ]
  },
  {
   "cell_type": "code",
   "execution_count": 0,
   "metadata": {
    "application/vnd.databricks.v1+cell": {
     "cellMetadata": {
      "byteLimit": 2048000,
      "rowLimit": 10000
     },
     "inputWidgets": {},
     "nuid": "087424b1-fc96-417b-bf25-a07d3c98ad26",
     "showTitle": false,
     "tableResultSettingsMap": {},
     "title": ""
    }
   },
   "outputs": [],
   "source": [
    "# The enriched table should contain all customers (left join)\n",
    "customer_count = customer_df.select(\"Customer_ID\").distinct().count()\n",
    "enriched_count = customer_enriched.select(\"Customer_ID\").distinct().count()\n",
    "\n",
    "assert customer_count == enriched_count, \"Test Case 1 Failed: Some customers are missing after join.\"\n",
    "print(\"OK Test Case 1 Passed: All customers are present after join.\")\n"
   ]
  },
  {
   "cell_type": "code",
   "execution_count": 0,
   "metadata": {
    "application/vnd.databricks.v1+cell": {
     "cellMetadata": {
      "byteLimit": 2048000,
      "rowLimit": 10000
     },
     "inputWidgets": {},
     "nuid": "49df7677-64f1-4382-ba49-cebc6a3630c6",
     "showTitle": false,
     "tableResultSettingsMap": {},
     "title": ""
    }
   },
   "outputs": [],
   "source": [
    "# Customers with no orders should have Total_Spend = 0 and Total_Orders = 0\n",
    "from pyspark.sql.functions import col\n",
    "null_customers = customer_enriched.filter((col(\"Total_Spend\") == 0) & (col(\"Total_Orders\") == 0))\n",
    "\n",
    "assert null_customers.count() >= 0, \"Test Case 2 Failed: Customers with no orders not correctly handled.\"\n",
    "print(\"OK Test Case 2 Passed: Customers with no orders have Total_Spend = 0 and Total_Orders = 0.\")\n"
   ]
  },
  {
   "cell_type": "code",
   "execution_count": 0,
   "metadata": {
    "application/vnd.databricks.v1+cell": {
     "cellMetadata": {
      "byteLimit": 2048000,
      "rowLimit": 10000
     },
     "inputWidgets": {},
     "nuid": "050d394c-1475-4702-925b-ab412cb846d2",
     "showTitle": false,
     "tableResultSettingsMap": {},
     "title": ""
    }
   },
   "outputs": [],
   "source": [
    "expected_columns = {'Customer_ID', 'Total_Spend', 'Total_Orders'}\n",
    "\n",
    "assert expected_columns.issubset(set(customer_enriched.columns)), \"Test Case 3 Failed: Schema is missing expected columns.\"\n",
    "print(\"OK Test Case 3 Passed: Schema is correct.\")\n"
   ]
  },
  {
   "cell_type": "markdown",
   "metadata": {
    "application/vnd.databricks.v1+cell": {
     "cellMetadata": {},
     "inputWidgets": {},
     "nuid": "898d5af9-91c7-484c-9ffd-a928e0f2d1e9",
     "showTitle": false,
     "tableResultSettingsMap": {},
     "title": ""
    }
   },
   "source": [
    "####Product Enrich Test Cases"
   ]
  },
  {
   "cell_type": "code",
   "execution_count": 0,
   "metadata": {
    "application/vnd.databricks.v1+cell": {
     "cellMetadata": {
      "byteLimit": 2048000,
      "rowLimit": 10000
     },
     "inputWidgets": {},
     "nuid": "3e1f7206-267d-454e-8087-b3889b0e6d3b",
     "showTitle": false,
     "tableResultSettingsMap": {},
     "title": ""
    }
   },
   "outputs": [],
   "source": [
    "product_count = product_df.select(\"Product_ID\").distinct().count()\n",
    "enriched_count = product_enriched.select(\"Product_ID\").distinct().count()\n",
    "\n",
    "assert product_count == enriched_count, \"Test Case 1 Failed: Some products are missing after join.\"\n",
    "print(\"OK Test Case 1 Passed: All products are retained after join.\")\n"
   ]
  },
  {
   "cell_type": "code",
   "execution_count": 0,
   "metadata": {
    "application/vnd.databricks.v1+cell": {
     "cellMetadata": {
      "byteLimit": 2048000,
      "rowLimit": 10000
     },
     "inputWidgets": {},
     "nuid": "4d8254ad-8a28-4732-97ee-e08710fe3f97",
     "showTitle": false,
     "tableResultSettingsMap": {},
     "title": ""
    }
   },
   "outputs": [],
   "source": [
    "expected_columns = {'Product_ID', 'Total_Units_Sold', 'Total_Revenue'}\n",
    "\n",
    "assert expected_columns.issubset(set(product_enriched.columns)), \"Test Case 2 Failed: Schema is missing expected columns.\"\n",
    "print(\"OK Test Case 2 Passed: Schema is correct.\")\n"
   ]
  },
  {
   "cell_type": "markdown",
   "metadata": {
    "application/vnd.databricks.v1+cell": {
     "cellMetadata": {},
     "inputWidgets": {},
     "nuid": "7047dc48-74da-42d2-b24c-1e237d856199",
     "showTitle": false,
     "tableResultSettingsMap": {},
     "title": ""
    }
   },
   "source": [
    "#### Write to Silver Layer"
   ]
  },
  {
   "cell_type": "code",
   "execution_count": 0,
   "metadata": {
    "application/vnd.databricks.v1+cell": {
     "cellMetadata": {
      "byteLimit": 2048000,
      "rowLimit": 10000
     },
     "inputWidgets": {},
     "nuid": "b4ed9676-668c-4c20-aabc-0756e1c47039",
     "showTitle": false,
     "tableResultSettingsMap": {},
     "title": ""
    }
   },
   "outputs": [],
   "source": [
    "spark.sql(\"DROP TABLE IF EXISTS pei_adb_proj.silver.customer_enriched\")\n",
    "spark.sql(\"DROP TABLE IF EXISTS pei_adb_proj.silver.product_enriched\")"
   ]
  },
  {
   "cell_type": "code",
   "execution_count": 0,
   "metadata": {
    "application/vnd.databricks.v1+cell": {
     "cellMetadata": {
      "byteLimit": 2048000,
      "rowLimit": 10000
     },
     "inputWidgets": {},
     "nuid": "00fbf1b4-82bf-4072-a22c-0de4ed96269f",
     "showTitle": false,
     "tableResultSettingsMap": {},
     "title": ""
    }
   },
   "outputs": [],
   "source": [
    "customer_enriched.write.format(\"delta\").mode(\"overwrite\").saveAsTable(\"pei_adb_proj.silver.customer_enriched\")\n",
    "product_enriched.write.format(\"delta\").mode(\"overwrite\").saveAsTable(\"pei_adb_proj.silver.product_enriched\")"
   ]
  },
  {
   "cell_type": "code",
   "execution_count": 0,
   "metadata": {
    "application/vnd.databricks.v1+cell": {
     "cellMetadata": {
      "byteLimit": 2048000,
      "rowLimit": 10000
     },
     "inputWidgets": {},
     "nuid": "7685ec49-da51-4e74-952f-a692d1ca95a4",
     "showTitle": false,
     "tableResultSettingsMap": {},
     "title": ""
    }
   },
   "outputs": [],
   "source": []
  }
 ],
 "metadata": {
  "application/vnd.databricks.v1+notebook": {
   "computePreferences": null,
   "dashboards": [],
   "environmentMetadata": {
    "base_environment": "",
    "environment_version": "2"
   },
   "inputWidgetPreferences": null,
   "language": "python",
   "notebookMetadata": {
    "pythonIndentUnit": 4
   },
   "notebookName": "3. customer_product_enriched",
   "widgets": {}
  },
  "language_info": {
   "name": "python"
  }
 },
 "nbformat": 4,
 "nbformat_minor": 0
}
